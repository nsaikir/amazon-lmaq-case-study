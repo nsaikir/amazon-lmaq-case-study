# ------------------------------
# 🧪 etl.py
# ------------------------------
# Sample data extraction script
import pandas as pd
import boto3
import os

s3 = boto3.client('s3')
obj = s3.get_object(Bucket='lmaq-sample', Key='navigation.csv')
df = pd.read_csv(obj['Body'])
df.dropna().to_csv("data/cleaned_navigation.csv", index=False)

# ------------------------------
# 🧠 model.py
# ------------------------------
from sklearn.ensemble import RandomForestClassifier
import pandas as pd

# Load
df = pd.read_csv("data/cleaned_navigation.csv")
X = df[['route_length', 'traffic_density']]
y = df['on_time']

# Train
clf = RandomForestClassifier()
clf.fit(X, y)
print("Model trained.")

# ------------------------------
# 📊 viz.py
# ------------------------------
import matplotlib.pyplot as plt
import pandas as pd

df = pd.read_csv("data/cleaned_navigation.csv")
plt.hist(df['route_length'])
plt.title("Route Length Distribution")
plt.savefig("route_histogram.png")

# ------------------------------
# 📘 utils.py
# ------------------------------
def load_from_s3(bucket, key):
    import boto3
    s3 = boto3.client('s3')
    obj = s3.get_object(Bucket=bucket, Key=key)
    return obj['Body'].read()
